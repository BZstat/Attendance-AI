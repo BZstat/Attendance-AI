{
 "cells": [
  {
   "cell_type": "markdown",
   "metadata": {},
   "source": [
    "# Attendance AI\n",
    "<br/>"
   ]
  },
  {
   "cell_type": "markdown",
   "metadata": {},
   "source": [
    "# Import packages and load datasets\n",
    "<br/>"
   ]
  },
  {
   "cell_type": "code",
   "execution_count": 1,
   "metadata": {
    "pycharm": {
     "is_executing": false
    }
   },
   "outputs": [],
   "source": [
    "import mmcv, cv2\n",
    "from IPython import display\n",
    "from facenet_pytorch import MTCNN, InceptionResnetV1\n",
    "import torch\n",
    "from torch.utils.data import DataLoader\n",
    "from torchvision import datasets\n",
    "import os\n",
    "from matplotlib import pyplot as plt\n",
    "import numpy as np\n",
    "from PIL import Image, ImageDraw, ImageFont\n",
    "workers = 0 if os.name == 'nt' else 4"
   ]
  },
  {
   "cell_type": "code",
   "execution_count": 2,
   "metadata": {
    "pycharm": {
     "is_executing": false,
     "name": "#%%\n"
    },
    "scrolled": true
   },
   "outputs": [
    {
     "name": "stdout",
     "output_type": "stream",
     "text": [
      "Running on device: cpu\n"
     ]
    }
   ],
   "source": [
    "device = torch.device( 'cuda:0' if torch.cuda.is_available() else 'cpu') # selecting cpu or gpu to use pytorch\n",
    "print('Running on device: {}'.format(device))"
   ]
  },
  {
   "cell_type": "code",
   "execution_count": 3,
   "metadata": {
    "pycharm": {
     "is_executing": false,
     "name": "#%%\n"
    }
   },
   "outputs": [],
   "source": [
    "def collate_fn(x): # defining the list of samples to form a batch\n",
    "    return x[0]\n",
    "dataset = datasets.ImageFolder('knn_train') # data loading\n",
    "dataset.idx_to_class = {i:c for c, i in dataset.class_to_idx.items()} # distinguishing the key and value of the dataset\n",
    "loader = DataLoader(dataset, collate_fn=collate_fn, num_workers=workers) # defining the data loader"
   ]
  },
  {
   "cell_type": "markdown",
   "metadata": {},
   "source": [
    "# Training session\n",
    "## MTCNN + InceptionResNet + KNN\n",
    "<br/>"
   ]
  },
  {
   "cell_type": "markdown",
   "metadata": {},
   "source": [
    "# 1. MTCNN"
   ]
  },
  {
   "cell_type": "code",
   "execution_count": 4,
   "metadata": {
    "pycharm": {
     "is_executing": false,
     "name": "#%%\n"
    }
   },
   "outputs": [
    {
     "name": "stdout",
     "output_type": "stream",
     "text": [
      "Face detected with probability: 0.999813\n",
      "Face detected with probability: 0.999965\n",
      "Face detected with probability: 0.999627\n",
      "Face detected with probability: 0.999993\n",
      "Face detected with probability: 0.999580\n",
      "Face detected with probability: 0.999949\n",
      "Face detected with probability: 0.999989\n",
      "Face detected with probability: 1.000000\n",
      "Face detected with probability: 0.999882\n",
      "Face detected with probability: 0.999991\n",
      "Face detected with probability: 0.999804\n",
      "Face detected with probability: 0.999989\n",
      "Face detected with probability: 0.999982\n",
      "Face detected with probability: 0.999776\n",
      "Face detected with probability: 1.000000\n",
      "Face detected with probability: 0.999887\n",
      "Face detected with probability: 0.999907\n",
      "Face detected with probability: 0.999815\n",
      "Face detected with probability: 0.999980\n",
      "Face detected with probability: 0.999815\n",
      "Face detected with probability: 0.999989\n",
      "Face detected with probability: 0.999998\n",
      "Face detected with probability: 0.999989\n",
      "Face detected with probability: 0.999797\n",
      "Face detected with probability: 0.999740\n",
      "Face detected with probability: 0.999858\n",
      "Face detected with probability: 0.999930\n",
      "Face detected with probability: 0.999840\n",
      "Face detected with probability: 0.980784\n",
      "Face detected with probability: 0.999988\n",
      "Face detected with probability: 0.999599\n",
      "Face detected with probability: 0.999649\n",
      "Face detected with probability: 0.999976\n",
      "Face detected with probability: 0.999444\n",
      "Face detected with probability: 0.999866\n",
      "Face detected with probability: 0.999986\n",
      "Face detected with probability: 0.999042\n",
      "Face detected with probability: 0.999916\n",
      "Face detected with probability: 0.999904\n",
      "Face detected with probability: 0.999246\n",
      "Face detected with probability: 0.999928\n",
      "Face detected with probability: 0.999969\n",
      "Face detected with probability: 0.999695\n",
      "Face detected with probability: 0.996973\n",
      "Face detected with probability: 0.999201\n",
      "Face detected with probability: 0.997692\n",
      "Face detected with probability: 0.999991\n",
      "Face detected with probability: 0.999983\n",
      "Face detected with probability: 0.999927\n",
      "Face detected with probability: 0.999992\n",
      "Face detected with probability: 0.999994\n"
     ]
    }
   ],
   "source": [
    "mtcnn = MTCNN(image_size=160, margin=0) # defining the face detecting module\n",
    "\n",
    "# aligned is the set of cropped faces (face is cropped and simple face feature is extracted) \n",
    "# names is the list of class (name) of each picture\n",
    "# photos is the set of pictures\n",
    "aligned = [] \n",
    "names = [] \n",
    "photos = [] \n",
    "for x, y in loader:  \n",
    "    photos.append(x) # storing the picture\n",
    "    x_aligned, prob = mtcnn(x, return_prob=True) # mtcnn crop the face and extract the features of face\n",
    "    if x_aligned is not None: # if the face is detected, then executes below lines\n",
    "        print('Face detected with probability: {:8f}'.format(prob)) # the probability that face is included in detected box \n",
    "        aligned.append(x_aligned) # storing the cropped faces \n",
    "        names.append(dataset.idx_to_class[y]) # storing the class (name) of each picture"
   ]
  },
  {
   "cell_type": "code",
   "execution_count": 5,
   "metadata": {
    "pycharm": {
     "is_executing": false,
     "name": "#%%\n"
    },
    "scrolled": true
   },
   "outputs": [
    {
     "name": "stdout",
     "output_type": "stream",
     "text": [
      "length of aligned is 51 and length of names is 51\n"
     ]
    }
   ],
   "source": [
    "# check length of aligned and names\n",
    "print('length of aligned is %d and length of names is %d'%(len(aligned),len(names)))"
   ]
  },
  {
   "cell_type": "code",
   "execution_count": 6,
   "metadata": {
    "pycharm": {
     "is_executing": false,
     "name": "#%%\n"
    }
   },
   "outputs": [],
   "source": [
    "# Encoding the Labels (names)\n",
    "from sklearn.preprocessing import LabelEncoder\n",
    "\n",
    "names_enc=[]\n",
    "out_encoder = LabelEncoder()  \n",
    "out_encoder.fit(names) # LabelEncoder learns 'names' for fitting Encoder\n",
    "names_enc = out_encoder.transform(names) # names_enc is encoded labels set"
   ]
  },
  {
   "cell_type": "markdown",
   "metadata": {},
   "source": [
    "# 2. Inception ResNet\n",
    "<br/>"
   ]
  },
  {
   "cell_type": "code",
   "execution_count": 7,
   "metadata": {
    "pycharm": {
     "is_executing": false,
     "name": "#%%\n"
    }
   },
   "outputs": [],
   "source": [
    "# We use InceptionResNet to extract high level featrues from cropped face\n",
    "# Loading InceptionResNetV1 model that was pretrained by vggface2 dataset\n",
    "resnet = InceptionResnetV1(pretrained='vggface2').eval() \n",
    "\n",
    "# resenet.cuda() If you want to use cuda\n",
    "resnet # putting the model into cuda\n",
    "aligned_st = torch.stack(aligned).to(device) # calculating embedding (unsqueeze to add batch dimension)\n",
    "img_embedding = resnet(aligned_st) # img_embedding is embedded features set"
   ]
  },
  {
   "cell_type": "markdown",
   "metadata": {},
   "source": [
    "# 3. KNN classifier\n",
    "<br/>"
   ]
  },
  {
   "cell_type": "code",
   "execution_count": 8,
   "metadata": {
    "pycharm": {
     "is_executing": false,
     "name": "#%%\n"
    }
   },
   "outputs": [],
   "source": [
    "# We use KNN classifier to classify the face\n",
    "\n",
    "from sklearn.neighbors import KNeighborsClassifier\n",
    "\n",
    "training_accuracy = []\n",
    "neighbors_settings = range(1,11) # setting the neighbors of KNN classifier\n",
    "train_x = img_embedding.detach().numpy() # detaching the image into numpy array\n",
    "train_y = names_enc # defining the image's label\n",
    "for n_neighbors in neighbors_settings:\n",
    "    clf = KNeighborsClassifier(n_neighbors=n_neighbors) # setting KNN model\n",
    "    clf.fit(train_x, train_y) # fitting the KNN model\n",
    "    training_accuracy.append(clf.score(train_x, train_y)) # storing the training accuracy"
   ]
  },
  {
   "cell_type": "code",
   "execution_count": 9,
   "metadata": {
    "pycharm": {
     "is_executing": false,
     "name": "#%%\n"
    }
   },
   "outputs": [
    {
     "data": {
      "image/png": "[encoded data removed]",
      "text/plain": [
       "<Figure size 432x288 with 1 Axes>"
      ]
     },
     "metadata": {
      "needs_background": "light"
     },
     "output_type": "display_data"
    }
   ],
   "source": [
    "# Plot training accuracy curve (according to n_neighbors) \n",
    "plt.plot(neighbors_settings, training_accuracy, label=\"training accuracy\") \n",
    "plt.ylabel(\"accuracy\") \n",
    "plt.xlabel(\"n_neighbors\")\n",
    "plt.legend()\n",
    "plt.show()"
   ]
  },
  {
   "cell_type": "code",
   "execution_count": 10,
   "metadata": {
    "pycharm": {
     "is_executing": false,
     "name": "#%%\n"
    }
   },
   "outputs": [],
   "source": [
    "# We define the the neighbors of KNN module that makes optimized accuracy\n",
    "# But, considering the overfitting problem, we select n_neighbors = 3  \n",
    "# It is because that we thought KNN with n_neighbors=1 has so high accuracy and high complexity\n",
    "clf = KNeighborsClassifier(n_neighbors=3) \n",
    "clf.fit(train_x, train_y)\n",
    "pred=clf.predict(train_x)"
   ]
  },
  {
   "cell_type": "code",
   "execution_count": 11,
   "metadata": {
    "pycharm": {
     "is_executing": false,
     "name": "#%%\n"
    }
   },
   "outputs": [
    {
     "name": "stdout",
     "output_type": "stream",
     "text": [
      "[0 0 0 0 0 1 1 1 1 1 2 2 2 2 2 3 3 3 3 5 4 4 4 4 4 5 5 5 5 5 5 6 6 6 6 6 7\n",
      " 7 7 7 7 8 8 8 8 8 9 9 9 9 9]\n"
     ]
    }
   ],
   "source": [
    "print(pred) # print prediction (label encoded)"
   ]
  },
  {
   "cell_type": "code",
   "execution_count": 12,
   "metadata": {
    "pycharm": {
     "is_executing": false,
     "name": "#%%\n"
    }
   },
   "outputs": [
    {
     "name": "stdout",
     "output_type": "stream",
     "text": [
      "['김지훈' '김지훈' '김지훈' '김지훈' '김지훈' '랩몬스터' '랩몬스터' '랩몬스터' '랩몬스터' '랩몬스터' '뷔' '뷔'\n",
      " '뷔' '뷔' '뷔' '석영' '석영' '석영' '석영' '승협' '슈가' '슈가' '슈가' '슈가' '슈가' '승협' '승협'\n",
      " '승협' '승협' '승협' '승협' '자민' '자민' '자민' '자민' '자민' '정국' '정국' '정국' '정국' '정국'\n",
      " '제이홉' '제이홉' '제이홉' '제이홉' '제이홉' '진' '진' '진' '진' '진']\n"
     ]
    }
   ],
   "source": [
    "pred_name = out_encoder.inverse_transform(pred)\n",
    "print(pred_name) # print prediction (label decoded)"
   ]
  },
  {
   "cell_type": "code",
   "execution_count": 13,
   "metadata": {
    "pycharm": {
     "is_executing": false,
     "name": "#%%\n"
    }
   },
   "outputs": [
    {
     "name": "stdout",
     "output_type": "stream",
     "text": [
      "['김지훈' '김지훈' '김지훈' '김지훈' '김지훈' '랩몬스터' '랩몬스터' '랩몬스터' '랩몬스터' '랩몬스터' '뷔' '뷔'\n",
      " '뷔' '뷔' '뷔' '석영' '석영' '석영' '석영' '석영' '슈가' '슈가' '슈가' '슈가' '슈가' '승협' '승협'\n",
      " '승협' '승협' '승협' '승협' '자민' '자민' '자민' '자민' '자민' '정국' '정국' '정국' '정국' '정국'\n",
      " '제이홉' '제이홉' '제이홉' '제이홉' '제이홉' '진' '진' '진' '진' '진']\n"
     ]
    }
   ],
   "source": [
    "train_name = out_encoder.inverse_transform(train_y)\n",
    "print(train_name) # print name of training set (original class)"
   ]
  },
  {
   "cell_type": "markdown",
   "metadata": {},
   "source": [
    "# Classify session\n",
    "## classify the faces comming in to the class\n",
    "<br/>"
   ]
  },
  {
   "cell_type": "code",
   "execution_count": 14,
   "metadata": {
    "pycharm": {
     "is_executing": false,
     "name": "#%%\n"
    }
   },
   "outputs": [],
   "source": [
    "# import face recognition module\n",
    "# It is maybe seen duplicated. But, the above one is just for the training and this one is for the prediction\n",
    "mtcnn = MTCNN(image_size=160, margin=0, device=device)"
   ]
  },
  {
   "cell_type": "code",
   "execution_count": 15,
   "metadata": {
    "pycharm": {
     "is_executing": false,
     "name": "#%%\n"
    },
    "scrolled": true
   },
   "outputs": [],
   "source": [
    "video = mmcv.VideoReader('data/sh_ys1.mp4') # get videos using mmcv package  \n",
    "frames = [Image.fromarray(cv2.cvtColor(frame, cv2.COLOR_BGR2RGB)) for frame in video] # store each of the frame from the video"
   ]
  },
  {
   "cell_type": "code",
   "execution_count": 18,
   "metadata": {
    "pycharm": {
     "is_executing": false,
     "name": "#%%\n"
    },
    "scrolled": true
   },
   "outputs": [
    {
     "name": "stdout",
     "output_type": "stream",
     "text": [
      "Tracking frame: 1Face detected with probability: 0.999639\n",
      "Tracking frame: 2Face detected with probability: 0.999183\n",
      "Tracking frame: 3Face detected with probability: 0.999125\n",
      "Tracking frame: 4Face detected with probability: 0.999120\n",
      "Tracking frame: 5Face detected with probability: 0.999777\n",
      "Tracking frame: 6Face detected with probability: 0.999689\n",
      "Tracking frame: 7Face detected with probability: 0.999689\n",
      "Tracking frame: 8Face detected with probability: 0.999175\n",
      "Tracking frame: 9Face detected with probability: 0.999175\n",
      "Tracking frame: 10Face detected with probability: 0.999459\n",
      "Tracking frame: 11Face detected with probability: 0.999898\n",
      "Tracking frame: 12Face detected with probability: 0.999898\n",
      "Tracking frame: 13Face detected with probability: 0.999274\n",
      "Tracking frame: 14Face detected with probability: 0.999595\n",
      "Tracking frame: 15Face detected with probability: 0.999595\n",
      "Tracking frame: 16Face detected with probability: 0.999787\n",
      "Tracking frame: 17Face detected with probability: 0.999787\n",
      "Tracking frame: 18Face detected with probability: 0.999306\n",
      "Tracking frame: 19Face detected with probability: 0.999345\n",
      "Tracking frame: 20Face detected with probability: 0.999345\n",
      "Tracking frame: 21Face detected with probability: 0.999983\n",
      "Tracking frame: 22Face detected with probability: 0.999983\n",
      "Tracking frame: 23Face detected with probability: 0.999571\n",
      "Tracking frame: 24Face detected with probability: 0.999137\n",
      "Tracking frame: 25Face detected with probability: 0.999128\n",
      "Tracking frame: 26Face detected with probability: 0.999762\n",
      "Tracking frame: 27Face detected with probability: 0.999765\n",
      "Tracking frame: 28Face detected with probability: 0.999934\n",
      "Tracking frame: 29Face detected with probability: 0.999990\n",
      "Tracking frame: 30Face detected with probability: 0.999990\n",
      "Tracking frame: 31Face detected with probability: 0.998803\n",
      "Tracking frame: 32Face detected with probability: 0.998667\n",
      "Tracking frame: 33Face detected with probability: 0.999988\n",
      "Tracking frame: 34Face detected with probability: 0.999832\n",
      "Tracking frame: 35Face detected with probability: 0.999690\n",
      "Tracking frame: 36Face detected with probability: 0.999529\n",
      "Tracking frame: 37Face detected with probability: 0.999529\n",
      "Tracking frame: 38Face detected with probability: 0.998792\n",
      "Tracking frame: 39Face detected with probability: 0.999741\n",
      "Tracking frame: 40Face detected with probability: 0.999741\n",
      "Tracking frame: 41Face detected with probability: 0.999575\n",
      "Tracking frame: 42Face detected with probability: 0.999575\n",
      "Tracking frame: 43Face detected with probability: 0.999700\n",
      "Tracking frame: 44Face detected with probability: 0.998229\n",
      "Tracking frame: 45Face detected with probability: 0.999076\n",
      "Tracking frame: 46Face detected with probability: 0.998378\n",
      "Tracking frame: 47Face detected with probability: 0.998397\n",
      "Tracking frame: 48Face detected with probability: 0.999413\n",
      "Tracking frame: 49Face detected with probability: 0.998277\n",
      "Tracking frame: 50Face detected with probability: 0.998129\n",
      "Tracking frame: 51Face detected with probability: 0.998296\n",
      "Tracking frame: 52Face detected with probability: 0.998296\n",
      "Tracking frame: 53Face detected with probability: 0.999754\n",
      "Tracking frame: 54Face detected with probability: 0.999945\n",
      "Tracking frame: 55Face detected with probability: 0.999948\n",
      "Tracking frame: 56Face detected with probability: 0.999965\n",
      "Tracking frame: 57Face detected with probability: 0.999956\n",
      "Tracking frame: 58Face detected with probability: 0.999977\n",
      "Tracking frame: 59Face detected with probability: 0.999991\n",
      "Tracking frame: 60Face detected with probability: 0.999991\n",
      "Tracking frame: 61Face detected with probability: 0.999993\n",
      "Tracking frame: 62Face detected with probability: 0.999993\n",
      "Tracking frame: 63Face detected with probability: 0.999997\n",
      "Tracking frame: 64Face detected with probability: 0.999999\n",
      "Tracking frame: 65Face detected with probability: 0.999999\n",
      "Tracking frame: 66Face detected with probability: 0.999967\n",
      "Tracking frame: 67Face detected with probability: 0.999965\n",
      "Tracking frame: 68Face detected with probability: 0.999996\n",
      "Tracking frame: 69Face detected with probability: 0.999974\n",
      "Tracking frame: 70Face detected with probability: 0.999969\n",
      "Tracking frame: 71Face detected with probability: 0.999313\n",
      "Tracking frame: 72Face detected with probability: 0.998587\n"
     ]
    }
   ],
   "source": [
    "fontsFolder = '/usr/share/fonts/truetype' # Directory of folder including fonts \n",
    "selectedFont = ImageFont.truetype(os.path.join(fontsFolder,'NanumGothic.ttf'),30) # Directory of fonts\n",
    "\n",
    "faligned = [] # the list of cropped frames (face is cropped and simple face feature is extracted)\n",
    "fphotos = [] # the set of original frames\n",
    "\n",
    "for i, frame in enumerate(frames):\n",
    "    print('\\rTracking frame: {}'.format(i + 1), end='') # print the number of frames processed\n",
    "    fphotos.append(frame) # storing the frame\n",
    "    frame_aligned, prob = mtcnn(frame, return_prob=True) # mtcnn crop the frame and extract features of face \n",
    "    if frame_aligned is not None:\n",
    "        print('Face detected with probability: {:8f}'.format(prob))\n",
    "        faligned.append(frame_aligned)"
   ]
  },
  {
   "cell_type": "code",
   "execution_count": 19,
   "metadata": {
    "pycharm": {
     "is_executing": false
    },
    "scrolled": true
   },
   "outputs": [
    {
     "data": {
      "text/plain": [
       "72"
      ]
     },
     "execution_count": 19,
     "metadata": {},
     "output_type": "execute_result"
    }
   ],
   "source": [
    "len(faligned) # length of cropped frames"
   ]
  },
  {
   "cell_type": "code",
   "execution_count": 20,
   "metadata": {
    "pycharm": {
     "is_executing": false
    }
   },
   "outputs": [],
   "source": [
    "# Load InceptionResNetV1 model that was pretrained by vggface2 dataset\n",
    "resnet = InceptionResnetV1(pretrained='vggface2').eval()\n",
    "\n",
    "# Calculate embedding (unsqueeze to add batch dimension)\n",
    "# frame_embedding is embedded frame sets\n",
    "faligned_st = torch.stack(faligned).to(device)\n",
    "frame_embedding = resnet(faligned_st)"
   ]
  },
  {
   "cell_type": "code",
   "execution_count": 21,
   "metadata": {
    "pycharm": {
     "is_executing": false
    }
   },
   "outputs": [
    {
     "data": {
      "text/plain": [
       "torch.Size([72, 512])"
      ]
     },
     "execution_count": 21,
     "metadata": {},
     "output_type": "execute_result"
    }
   ],
   "source": [
    "frame_embedding.shape"
   ]
  },
  {
   "cell_type": "code",
   "execution_count": 22,
   "metadata": {
    "pycharm": {
     "is_executing": false
    }
   },
   "outputs": [],
   "source": [
    "# predict name by knn (pretrained)\n",
    "test_x=frame_embedding.detach().numpy()\n",
    "pred=clf.predict(test_x)"
   ]
  },
  {
   "cell_type": "code",
   "execution_count": 23,
   "metadata": {
    "pycharm": {
     "is_executing": false
    }
   },
   "outputs": [
    {
     "name": "stdout",
     "output_type": "stream",
     "text": [
      "['석영' '제이홉' '진' '김지훈' '뷔' '김지훈' '김지훈' '승협' '승협' '김지훈' '제이홉' '제이홉' '석영'\n",
      " '석영' '석영' '석영' '석영' '석영' '석영' '석영' '석영' '석영' '석영' '석영' '석영' '석영' '석영'\n",
      " '석영' '석영' '석영' '석영' '석영' '제이홉' '제이홉' '제이홉' '제이홉' '제이홉' '석영' '석영' '석영'\n",
      " '석영' '석영' '석영' '석영' '석영' '석영' '석영' '석영' '석영' '석영' '석영' '석영' '석영' '승협'\n",
      " '승협' '승협' '승협' '석영' '승협' '승협' '석영' '석영' '석영' '석영' '석영' '석영' '석영' '석영'\n",
      " '석영' '석영' '석영' '승협']\n"
     ]
    }
   ],
   "source": [
    "pred_name = out_encoder.inverse_transform(pred)\n",
    "print(pred_name)"
   ]
  },
  {
   "cell_type": "code",
   "execution_count": 24,
   "metadata": {
    "pycharm": {
     "is_executing": false
    }
   },
   "outputs": [
    {
     "data": {
      "text/plain": [
       "numpy.ndarray"
      ]
     },
     "execution_count": 24,
     "metadata": {},
     "output_type": "execute_result"
    }
   ],
   "source": [
    "type(pred_name)"
   ]
  },
  {
   "cell_type": "code",
   "execution_count": 25,
   "metadata": {
    "pycharm": {
     "is_executing": false,
     "name": "#%%\n"
    }
   },
   "outputs": [
    {
     "name": "stdout",
     "output_type": "stream",
     "text": [
      "\n",
      "Done\n"
     ]
    }
   ],
   "source": [
    "# Draw the detected boungding box and the classified name\n",
    "\n",
    "for i, frame in enumerate(frames):\n",
    "\n",
    "    frames_tracked = [] # the set of tracked frames\n",
    "    boxes, _ = mtcnn.detect(frame) # detect bounding box including face\n",
    "    frame_draw = frame.copy() # make a copy of the frame\n",
    "    draw = ImageDraw.Draw(frame_draw) # draw object on frame_draw\n",
    "    for box in boxes:\n",
    "        draw.rectangle(box.tolist(), outline=(255, 0, 0), width=6) # draw bounding box\n",
    "        x_axis=boxes[0][0]-10 \n",
    "        y_axis=boxes[0][1]-35\n",
    "        draw.text((x_axis, y_axis),str(pred_name[i]),(100,255,255),font=selectedFont)# draw the classifed name \n",
    "        # Add to frame list\n",
    "    frames_tracked.append(frame_draw.resize((640, 360), Image.BILINEAR))\n",
    "print('\\nDone')"
   ]
  },
  {
   "cell_type": "code",
   "execution_count": null,
   "metadata": {
    "pycharm": {
     "is_executing": false,
     "name": "#%%\n"
    }
   },
   "outputs": [],
   "source": [
    "# Display finally processed video\n",
    "\n",
    "d = display.display(frames_tracked[0], display_id=True)\n",
    "i = 1\n",
    "try:\n",
    "    while True:\n",
    "        d.update(frames_tracked[i % len(frames_tracked)])\n",
    "        i += 1\n",
    "except KeyboardInterrupt:\n",
    "    pass"
   ]
  },
  {
   "cell_type": "code",
   "execution_count": null,
   "metadata": {
    "pycharm": {
     "is_executing": false,
     "name": "#%%\n"
    }
   },
   "outputs": [],
   "source": [
    "# Save the processed video\n",
    "\n",
    "dim = frames_tracked[0].size\n",
    "fourcc = cv2.VideoWriter_fourcc(*'FMP4') # the type video saved\n",
    "video_tracked = cv2.VideoWriter('video_tracked.mp4', fourcc, 25.0, dim) # video names\n",
    "for frame in frames_tracked:\n",
    "    video_tracked.write(cv2.cvtColor(np.array(frame), cv2.COLOR_RGB2BGR))\n",
    "video_tracked.release()"
   ]
  }
 ],
 "metadata": {
  "kernelspec": {
   "display_name": "tf1",
   "language": "python",
   "name": "tf1"
  },
  "language_info": {
   "codemirror_mode": {
    "name": "ipython",
    "version": 3
   },
   "file_extension": ".py",
   "mimetype": "text/x-python",
   "name": "python",
   "nbconvert_exporter": "python",
   "pygments_lexer": "ipython3",
   "version": "3.6.9"
  },
  "pycharm": {
   "stem_cell": {
    "cell_type": "raw",
    "metadata": {
     "collapsed": false
    },
    "source": []
   }
  }
 },
 "nbformat": 4,
 "nbformat_minor": 2
}
